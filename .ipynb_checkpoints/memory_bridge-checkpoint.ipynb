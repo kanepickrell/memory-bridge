{
 "cells": [
  {
   "cell_type": "markdown",
   "metadata": {
    "colab_type": "text",
    "id": "view-in-github"
   },
   "source": [
    "<a href=\"https://colab.research.google.com/github/kanepickrell/memory-bridge/blob/main/memory_bridge.ipynb\" target=\"_parent\"><img src=\"https://colab.research.google.com/assets/colab-badge.svg\" alt=\"Open In Colab\"/></a>"
   ]
  },
  {
   "cell_type": "code",
   "execution_count": 1,
   "metadata": {
    "id": "45zNk1zDRYwF"
   },
   "outputs": [],
   "source": [
    "import pandas as pd\n",
    "import json\n",
    "import networkx as nx\n",
    "import matplotlib.pyplot as plt\n",
    "import random\n",
    "import time\n",
    "import requests\n",
    "import json\n",
    "import pandas as pd\n",
    "# from google.colab import files"
   ]
  },
  {
   "cell_type": "code",
   "execution_count": 2,
   "metadata": {
    "colab": {
     "base_uri": "https://localhost:8080/"
    },
    "id": "SVRtaWpB7COz",
    "outputId": "46fa2e9b-430a-4894-b2df-059248694eb2"
   },
   "outputs": [
    {
     "name": "stdout",
     "output_type": "stream",
     "text": [
      "{'people': [{'id': 'p1', 'name': 'John Doe', 'age': 35, 'relationship': 'Friend', 'description': 'A long-time friend from college who enjoys hiking and photography.', 'tags': ['friend', 'college', 'hiking', 'photography'], 'recall_strength': 0.85}, {'id': 'p2', 'name': 'Jane Smith', 'age': 29, 'relationship': 'Sister', 'description': 'Younger sister who works as a software engineer.', 'tags': ['family', 'sister', 'tech'], 'recall_strength': 0.92}], 'events': [{'id': 'e1', 'date': '2023-07-15', 'related_people': [['p1', 0.9], ['p2', 0.8]], 'description': 'A hiking trip to the Grand Canyon with John and Jane.', 'tags': ['hiking', 'trip', 'adventure'], 'related_places': [['l1', 1.0]], 'recall_strength': 0.78}, {'id': 'e2', 'date': '2022-12-25', 'related_people': [['p2', 1.0]], 'description': \"Christmas celebration at Jane's place.\", 'tags': ['holiday', 'family', 'Christmas'], 'related_places': [['l2', 1.0]], 'recall_strength': 0.88}], 'locations': [{'id': 'l1', 'name': 'Grand Canyon', 'address': 'Arizona, USA', 'description': 'A breathtaking natural wonder known for its stunning views and hiking trails.', 'recall_strength': 0.95}, {'id': 'l2', 'name': \"Jane's Apartment\", 'address': '123 Main St, New York, NY', 'description': \"Jane's cozy apartment where she hosted Christmas dinner.\", 'recall_strength': 0.81}]}\n"
     ]
    }
   ],
   "source": [
    "import requests\n",
    "\n",
    "url = \"https://raw.githubusercontent.com/kanepickrell/memory-bridge/main/MemoryFiles/MemoryFileV2.json\"\n",
    "response = requests.get(url)\n",
    "\n",
    "if response.status_code == 200:\n",
    "    try:\n",
    "        data = response.json()\n",
    "        print(data)\n",
    "    except requests.exceptions.JSONDecodeError:\n",
    "        print(\"Error: Response is not valid JSON\")\n",
    "        print(response.text)\n",
    "else:\n",
    "    print(\"Error fetching file:\", response.status_code)"
   ]
  },
  {
   "cell_type": "code",
   "execution_count": 3,
   "metadata": {
    "id": "vu9V4nqTn7R8"
   },
   "outputs": [],
   "source": [
    "df = pd.DataFrame(data)"
   ]
  },
  {
   "cell_type": "code",
   "execution_count": 4,
   "metadata": {
    "colab": {
     "base_uri": "https://localhost:8080/",
     "height": 112
    },
    "id": "Ctdoj380o0xc",
    "outputId": "804e2c75-4271-4b25-83f1-9fb1c00ce1e5"
   },
   "outputs": [
    {
     "data": {
      "text/html": [
       "<div>\n",
       "<style scoped>\n",
       "    .dataframe tbody tr th:only-of-type {\n",
       "        vertical-align: middle;\n",
       "    }\n",
       "\n",
       "    .dataframe tbody tr th {\n",
       "        vertical-align: top;\n",
       "    }\n",
       "\n",
       "    .dataframe thead th {\n",
       "        text-align: right;\n",
       "    }\n",
       "</style>\n",
       "<table border=\"1\" class=\"dataframe\">\n",
       "  <thead>\n",
       "    <tr style=\"text-align: right;\">\n",
       "      <th></th>\n",
       "      <th>people</th>\n",
       "      <th>events</th>\n",
       "      <th>locations</th>\n",
       "    </tr>\n",
       "  </thead>\n",
       "  <tbody>\n",
       "    <tr>\n",
       "      <th>0</th>\n",
       "      <td>{'id': 'p1', 'name': 'John Doe', 'age': 35, 'r...</td>\n",
       "      <td>{'id': 'e1', 'date': '2023-07-15', 'related_pe...</td>\n",
       "      <td>{'id': 'l1', 'name': 'Grand Canyon', 'address'...</td>\n",
       "    </tr>\n",
       "    <tr>\n",
       "      <th>1</th>\n",
       "      <td>{'id': 'p2', 'name': 'Jane Smith', 'age': 29, ...</td>\n",
       "      <td>{'id': 'e2', 'date': '2022-12-25', 'related_pe...</td>\n",
       "      <td>{'id': 'l2', 'name': 'Jane's Apartment', 'addr...</td>\n",
       "    </tr>\n",
       "  </tbody>\n",
       "</table>\n",
       "</div>"
      ],
      "text/plain": [
       "                                              people  \\\n",
       "0  {'id': 'p1', 'name': 'John Doe', 'age': 35, 'r...   \n",
       "1  {'id': 'p2', 'name': 'Jane Smith', 'age': 29, ...   \n",
       "\n",
       "                                              events  \\\n",
       "0  {'id': 'e1', 'date': '2023-07-15', 'related_pe...   \n",
       "1  {'id': 'e2', 'date': '2022-12-25', 'related_pe...   \n",
       "\n",
       "                                           locations  \n",
       "0  {'id': 'l1', 'name': 'Grand Canyon', 'address'...  \n",
       "1  {'id': 'l2', 'name': 'Jane's Apartment', 'addr...  "
      ]
     },
     "execution_count": 4,
     "metadata": {},
     "output_type": "execute_result"
    }
   ],
   "source": [
    "df.head()"
   ]
  },
  {
   "cell_type": "code",
   "execution_count": 5,
   "metadata": {
    "id": "7M8F5fo8o2uU"
   },
   "outputs": [],
   "source": [
    "df_people = pd.json_normalize(data, record_path=['people'])\n",
    "df_events = pd.json_normalize(data, record_path=['events'])\n",
    "df_locations = pd.json_normalize(data, record_path=['locations'])"
   ]
  },
  {
   "cell_type": "code",
   "execution_count": 6,
   "metadata": {
    "id": "11BCYyE6-oSO"
   },
   "outputs": [],
   "source": [
    "df_events = df_events.explode('related_people')"
   ]
  },
  {
   "cell_type": "code",
   "execution_count": 7,
   "metadata": {
    "id": "30xq6B5S-sRi"
   },
   "outputs": [],
   "source": [
    "df_events[['person_id', 'person_recall_strength']] = pd.DataFrame(df_events['related_people'].tolist(), index=df_events.index)"
   ]
  },
  {
   "cell_type": "code",
   "execution_count": 8,
   "metadata": {
    "id": "Ki028j7M-tmz"
   },
   "outputs": [],
   "source": [
    "df_events.drop(columns=['related_people'], inplace=True)"
   ]
  },
  {
   "cell_type": "code",
   "execution_count": 9,
   "metadata": {
    "id": "idZlkOj48rjQ"
   },
   "outputs": [],
   "source": [
    "df_merged = df_events.merge(df_people, left_on='person_id', right_on='id', how='left', suffixes=('_event', '_person'))"
   ]
  },
  {
   "cell_type": "code",
   "execution_count": 10,
   "metadata": {
    "id": "acXB2b3z-5SX"
   },
   "outputs": [],
   "source": [
    "df_merged = df_merged.explode('related_places')"
   ]
  },
  {
   "cell_type": "code",
   "execution_count": 11,
   "metadata": {
    "id": "Qu1pzN-C-5Cy"
   },
   "outputs": [],
   "source": [
    "df_merged[['location_id', 'location_recall_strength']] = pd.DataFrame(df_merged['related_places'].tolist(), index=df_merged.index)"
   ]
  },
  {
   "cell_type": "code",
   "execution_count": 12,
   "metadata": {
    "id": "vqBdnkgKpH-J"
   },
   "outputs": [],
   "source": [
    "df_merged.drop(columns=['related_places'], inplace=True)"
   ]
  },
  {
   "cell_type": "code",
   "execution_count": 13,
   "metadata": {
    "id": "q08CKFJM8fER"
   },
   "outputs": [],
   "source": [
    "df_merged = df_merged.merge(df_locations, left_on='location_id', right_on='id', how='left', suffixes=('', '_location'))"
   ]
  },
  {
   "cell_type": "code",
   "execution_count": 14,
   "metadata": {
    "colab": {
     "base_uri": "https://localhost:8080/",
     "height": 366
    },
    "id": "lRrm6QrX8f2g",
    "outputId": "13d3eef8-bc11-441f-face-3e6b738db42a"
   },
   "outputs": [
    {
     "data": {
      "text/html": [
       "<div>\n",
       "<style scoped>\n",
       "    .dataframe tbody tr th:only-of-type {\n",
       "        vertical-align: middle;\n",
       "    }\n",
       "\n",
       "    .dataframe tbody tr th {\n",
       "        vertical-align: top;\n",
       "    }\n",
       "\n",
       "    .dataframe thead th {\n",
       "        text-align: right;\n",
       "    }\n",
       "</style>\n",
       "<table border=\"1\" class=\"dataframe\">\n",
       "  <thead>\n",
       "    <tr style=\"text-align: right;\">\n",
       "      <th></th>\n",
       "      <th>id_event</th>\n",
       "      <th>date</th>\n",
       "      <th>description_event</th>\n",
       "      <th>tags_event</th>\n",
       "      <th>recall_strength_event</th>\n",
       "      <th>person_id</th>\n",
       "      <th>person_recall_strength</th>\n",
       "      <th>id_person</th>\n",
       "      <th>name</th>\n",
       "      <th>age</th>\n",
       "      <th>...</th>\n",
       "      <th>description_person</th>\n",
       "      <th>tags_person</th>\n",
       "      <th>recall_strength_person</th>\n",
       "      <th>location_id</th>\n",
       "      <th>location_recall_strength</th>\n",
       "      <th>id</th>\n",
       "      <th>name_location</th>\n",
       "      <th>address</th>\n",
       "      <th>description</th>\n",
       "      <th>recall_strength</th>\n",
       "    </tr>\n",
       "  </thead>\n",
       "  <tbody>\n",
       "    <tr>\n",
       "      <th>0</th>\n",
       "      <td>e1</td>\n",
       "      <td>2023-07-15</td>\n",
       "      <td>A hiking trip to the Grand Canyon with John an...</td>\n",
       "      <td>[hiking, trip, adventure]</td>\n",
       "      <td>0.78</td>\n",
       "      <td>p1</td>\n",
       "      <td>0.9</td>\n",
       "      <td>p1</td>\n",
       "      <td>John Doe</td>\n",
       "      <td>35</td>\n",
       "      <td>...</td>\n",
       "      <td>A long-time friend from college who enjoys hik...</td>\n",
       "      <td>[friend, college, hiking, photography]</td>\n",
       "      <td>0.85</td>\n",
       "      <td>l1</td>\n",
       "      <td>1.0</td>\n",
       "      <td>l1</td>\n",
       "      <td>Grand Canyon</td>\n",
       "      <td>Arizona, USA</td>\n",
       "      <td>A breathtaking natural wonder known for its st...</td>\n",
       "      <td>0.95</td>\n",
       "    </tr>\n",
       "    <tr>\n",
       "      <th>1</th>\n",
       "      <td>e1</td>\n",
       "      <td>2023-07-15</td>\n",
       "      <td>A hiking trip to the Grand Canyon with John an...</td>\n",
       "      <td>[hiking, trip, adventure]</td>\n",
       "      <td>0.78</td>\n",
       "      <td>p2</td>\n",
       "      <td>0.8</td>\n",
       "      <td>p2</td>\n",
       "      <td>Jane Smith</td>\n",
       "      <td>29</td>\n",
       "      <td>...</td>\n",
       "      <td>Younger sister who works as a software engineer.</td>\n",
       "      <td>[family, sister, tech]</td>\n",
       "      <td>0.92</td>\n",
       "      <td>l1</td>\n",
       "      <td>1.0</td>\n",
       "      <td>l1</td>\n",
       "      <td>Grand Canyon</td>\n",
       "      <td>Arizona, USA</td>\n",
       "      <td>A breathtaking natural wonder known for its st...</td>\n",
       "      <td>0.95</td>\n",
       "    </tr>\n",
       "    <tr>\n",
       "      <th>2</th>\n",
       "      <td>e2</td>\n",
       "      <td>2022-12-25</td>\n",
       "      <td>Christmas celebration at Jane's place.</td>\n",
       "      <td>[holiday, family, Christmas]</td>\n",
       "      <td>0.88</td>\n",
       "      <td>p2</td>\n",
       "      <td>1.0</td>\n",
       "      <td>p2</td>\n",
       "      <td>Jane Smith</td>\n",
       "      <td>29</td>\n",
       "      <td>...</td>\n",
       "      <td>Younger sister who works as a software engineer.</td>\n",
       "      <td>[family, sister, tech]</td>\n",
       "      <td>0.92</td>\n",
       "      <td>l2</td>\n",
       "      <td>1.0</td>\n",
       "      <td>l2</td>\n",
       "      <td>Jane's Apartment</td>\n",
       "      <td>123 Main St, New York, NY</td>\n",
       "      <td>Jane's cozy apartment where she hosted Christm...</td>\n",
       "      <td>0.81</td>\n",
       "    </tr>\n",
       "  </tbody>\n",
       "</table>\n",
       "<p>3 rows × 21 columns</p>\n",
       "</div>"
      ],
      "text/plain": [
       "  id_event        date                                  description_event  \\\n",
       "0       e1  2023-07-15  A hiking trip to the Grand Canyon with John an...   \n",
       "1       e1  2023-07-15  A hiking trip to the Grand Canyon with John an...   \n",
       "2       e2  2022-12-25             Christmas celebration at Jane's place.   \n",
       "\n",
       "                     tags_event  recall_strength_event person_id  \\\n",
       "0     [hiking, trip, adventure]                   0.78        p1   \n",
       "1     [hiking, trip, adventure]                   0.78        p2   \n",
       "2  [holiday, family, Christmas]                   0.88        p2   \n",
       "\n",
       "   person_recall_strength id_person        name  age  ...  \\\n",
       "0                     0.9        p1    John Doe   35  ...   \n",
       "1                     0.8        p2  Jane Smith   29  ...   \n",
       "2                     1.0        p2  Jane Smith   29  ...   \n",
       "\n",
       "                                  description_person  \\\n",
       "0  A long-time friend from college who enjoys hik...   \n",
       "1   Younger sister who works as a software engineer.   \n",
       "2   Younger sister who works as a software engineer.   \n",
       "\n",
       "                              tags_person recall_strength_person  location_id  \\\n",
       "0  [friend, college, hiking, photography]                   0.85           l1   \n",
       "1                  [family, sister, tech]                   0.92           l1   \n",
       "2                  [family, sister, tech]                   0.92           l2   \n",
       "\n",
       "  location_recall_strength  id     name_location                    address  \\\n",
       "0                      1.0  l1      Grand Canyon               Arizona, USA   \n",
       "1                      1.0  l1      Grand Canyon               Arizona, USA   \n",
       "2                      1.0  l2  Jane's Apartment  123 Main St, New York, NY   \n",
       "\n",
       "                                         description recall_strength  \n",
       "0  A breathtaking natural wonder known for its st...            0.95  \n",
       "1  A breathtaking natural wonder known for its st...            0.95  \n",
       "2  Jane's cozy apartment where she hosted Christm...            0.81  \n",
       "\n",
       "[3 rows x 21 columns]"
      ]
     },
     "execution_count": 14,
     "metadata": {},
     "output_type": "execute_result"
    }
   ],
   "source": [
    "df_merged.head()"
   ]
  },
  {
   "cell_type": "code",
   "execution_count": 15,
   "metadata": {
    "colab": {
     "base_uri": "https://localhost:8080/"
    },
    "id": "4g0NzPXdBO9V",
    "outputId": "14e8f195-5f37-45b1-a8b2-ccaab9cfd210"
   },
   "outputs": [
    {
     "data": {
      "text/plain": [
       "['id_event',\n",
       " 'date',\n",
       " 'description_event',\n",
       " 'tags_event',\n",
       " 'recall_strength_event',\n",
       " 'person_id',\n",
       " 'person_recall_strength',\n",
       " 'id_person',\n",
       " 'name',\n",
       " 'age',\n",
       " 'relationship',\n",
       " 'description_person',\n",
       " 'tags_person',\n",
       " 'recall_strength_person',\n",
       " 'location_id',\n",
       " 'location_recall_strength',\n",
       " 'id',\n",
       " 'name_location',\n",
       " 'address',\n",
       " 'description',\n",
       " 'recall_strength']"
      ]
     },
     "execution_count": 15,
     "metadata": {},
     "output_type": "execute_result"
    }
   ],
   "source": [
    "df_merged.columns.tolist()"
   ]
  },
  {
   "cell_type": "code",
   "execution_count": 18,
   "metadata": {
    "id": "PUhgepFWLXzL"
   },
   "outputs": [
    {
     "ename": "NameError",
     "evalue": "name 'textwrap' is not defined",
     "output_type": "error",
     "traceback": [
      "\u001b[31m---------------------------------------------------------------------------\u001b[39m",
      "\u001b[31mNameError\u001b[39m                                 Traceback (most recent call last)",
      "\u001b[36mCell\u001b[39m\u001b[36m \u001b[39m\u001b[32mIn[18]\u001b[39m\u001b[32m, line 12\u001b[39m\n\u001b[32m      8\u001b[39m person_node = \u001b[33mf\u001b[39m\u001b[33m\"\u001b[39m\u001b[38;5;132;01m{\u001b[39;00mrow[\u001b[33m'\u001b[39m\u001b[33mname\u001b[39m\u001b[33m'\u001b[39m]\u001b[38;5;132;01m}\u001b[39;00m\u001b[33m (\u001b[39m\u001b[38;5;132;01m{\u001b[39;00mrow[\u001b[33m'\u001b[39m\u001b[33mrelationship\u001b[39m\u001b[33m'\u001b[39m]\u001b[38;5;132;01m}\u001b[39;00m\u001b[33m)\u001b[39m\u001b[33m\"\u001b[39m\n\u001b[32m      9\u001b[39m location_node = \u001b[33mf\u001b[39m\u001b[33m\"\u001b[39m\u001b[38;5;132;01m{\u001b[39;00mrow[\u001b[33m'\u001b[39m\u001b[33mname_location\u001b[39m\u001b[33m'\u001b[39m]\u001b[38;5;132;01m}\u001b[39;00m\u001b[33m\"\u001b[39m\n\u001b[32m---> \u001b[39m\u001b[32m12\u001b[39m event_node = \u001b[33m\"\u001b[39m\u001b[38;5;130;01m\\n\u001b[39;00m\u001b[33m\"\u001b[39m.join(\u001b[43mtextwrap\u001b[49m.wrap(event_node, width=\u001b[32m25\u001b[39m))\n\u001b[32m     13\u001b[39m person_node = \u001b[33m\"\u001b[39m\u001b[38;5;130;01m\\n\u001b[39;00m\u001b[33m\"\u001b[39m.join(textwrap.wrap(person_node, width=\u001b[32m20\u001b[39m))\n\u001b[32m     14\u001b[39m location_node = \u001b[33m\"\u001b[39m\u001b[38;5;130;01m\\n\u001b[39;00m\u001b[33m\"\u001b[39m.join(textwrap.wrap(location_node, width=\u001b[32m20\u001b[39m))\n",
      "\u001b[31mNameError\u001b[39m: name 'textwrap' is not defined"
     ]
    }
   ],
   "source": [
    "G = nx.Graph()\n",
    "node_colors = {}\n",
    "node_sizes = {}\n",
    "\n",
    "\n",
    "for _, row in df_merged.iterrows():\n",
    "    event_node = f\"{row['description_event']}\"\n",
    "    person_node = f\"{row['name']} ({row['relationship']})\"\n",
    "    location_node = f\"{row['name_location']}\"\n",
    "\n",
    "\n",
    "    # event_node = \"\\n\".join(textwrap.wrap(event_node, width=25))\n",
    "    # person_node = \"\\n\".join(textwrap.wrap(person_node, width=20))\n",
    "    # location_node = \"\\n\".join(textwrap.wrap(location_node, width=20))\n",
    "\n",
    "\n",
    "    G.add_node(event_node, type=\"event\")\n",
    "    G.add_node(person_node, type=\"person\")\n",
    "    G.add_node(location_node, type=\"location\")\n",
    "\n",
    "\n",
    "    node_colors[event_node] = \"lightblue\"\n",
    "    node_colors[person_node] = \"teal\"\n",
    "    node_colors[location_node] = \"green\"\n",
    "\n",
    "\n",
    "    node_sizes[event_node] = row['recall_strength_event'] * 800\n",
    "    node_sizes[person_node] = row['recall_strength_person'] * 600\n",
    "    node_sizes[location_node] = row['recall_strength'] * 700\n",
    "\n",
    "\n",
    "    G.add_edge(event_node, person_node, weight=row['recall_strength_event'] * 5)\n",
    "    G.add_edge(event_node, location_node, weight=row['location_recall_strength'] * 5)"
   ]
  },
  {
   "cell_type": "code",
   "execution_count": 19,
   "metadata": {
    "colab": {
     "base_uri": "https://localhost:8080/",
     "height": 830
    },
    "id": "sq2dEyn5L-Aa",
    "outputId": "e77ffa30-8b86-4583-e93a-7c9773bcbeaa"
   },
   "outputs": [
    {
     "data": {
      "image/png": "[encoded data removed]",
      "text/plain": [
       "<Figure size 1200x1000 with 1 Axes>"
      ]
     },
     "metadata": {},
     "output_type": "display_data"
    }
   ],
   "source": [
    "pos = nx.spring_layout(G, seed=63)\n",
    "edge_weights = [G[u][v]['weight'] for u, v in G.edges()]\n",
    "plt.figure(figsize=(12, 10))\n",
    "nx.draw_networkx_edges(G, pos, width=edge_weights, alpha=0.5, edge_color=\"grey\")\n",
    "nx.draw_networkx_nodes(G, pos, node_size=[node_sizes[n] for n in G.nodes()],\n",
    "                       node_color=[node_colors[n] for n in G.nodes()], edgecolors=\"black\")\n",
    "label_pos = {k: (v[0], v[1] + 0.04) for k, v in pos.items()}\n",
    "nx.draw_networkx_labels(G, label_pos, font_size=8, font_color=\"black\", font_weight=\"bold\")\n",
    "plt.title(\"node_map\", fontsize=14)\n",
    "plt.axis(\"off\")\n",
    "plt.show()"
   ]
  },
  {
   "cell_type": "code",
   "execution_count": null,
   "metadata": {},
   "outputs": [],
   "source": []
  },
  {
   "cell_type": "code",
   "execution_count": null,
   "metadata": {},
   "outputs": [],
   "source": []
  },
  {
   "cell_type": "code",
   "execution_count": null,
   "metadata": {},
   "outputs": [],
   "source": []
  }
 ],
 "metadata": {
  "colab": {
   "authorship_tag": "ABX9TyM40kezl1KTvI1XzgBjoRif",
   "include_colab_link": true,
   "provenance": []
  },
  "kernelspec": {
   "display_name": "Python 3 (ipykernel)",
   "language": "python",
   "name": "python3"
  },
  "language_info": {
   "codemirror_mode": {
    "name": "ipython",
    "version": 3
   },
   "file_extension": ".py",
   "mimetype": "text/x-python",
   "name": "python",
   "nbconvert_exporter": "python",
   "pygments_lexer": "ipython3",
   "version": "3.11.0"
  }
 },
 "nbformat": 4,
 "nbformat_minor": 4
}
